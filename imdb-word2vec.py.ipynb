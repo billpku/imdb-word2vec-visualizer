{
 "cells": [
  {
   "cell_type": "code",
   "execution_count": 1,
   "metadata": {
    "collapsed": false,
    "scrolled": true
   },
   "outputs": [
    {
     "name": "stdout",
     "output_type": "stream",
     "text": [
      "Read 25000 labeled train reviews, 25000 labeled test reviews, and 50000 unlabeled reviews\n",
      "\n"
     ]
    }
   ],
   "source": [
    "import pandas as pd\n",
    "train_data = pd.read_csv(\"labeledTrainData.tsv\", header=0, delimiter=\"\\t\", quoting=3)\n",
    "test_data = pd.read_csv(\"testData.tsv\", header=0, delimiter=\"\\t\", quoting=3)\n",
    "unlabeled_train_data = pd.read_csv(\"unlabeledTrainData.tsv\", header=0, delimiter=\"\\t\", quoting=3)\n",
    "\n",
    "print \"Read %d labeled train reviews, %d labeled test reviews, \" \\\n",
    " \"and %d unlabeled reviews\\n\" % (train_data[\"review\"].size,  \n",
    " test_data[\"review\"].size, unlabeled_train_data[\"review\"].size )\n"
   ]
  },
  {
   "cell_type": "code",
   "execution_count": 2,
   "metadata": {
    "collapsed": true
   },
   "outputs": [],
   "source": [
    "from bs4 import BeautifulSoup\n",
    "import re\n",
    "from nltk.corpus import stopwords\n",
    "from nltk.stem import WordNetLemmatizer\n",
    "\n",
    "wordnet_lemmatizer = WordNetLemmatizer()\n",
    "\n",
    "def review_to_wordlist(raw_review, remove_stopwords=False):\n",
    "    review_text = BeautifulSoup(raw_review).get_text()\n",
    "    \n",
    "    letters_only = re.sub(\"[^a-zA-Z]\", \" \", review_text)\n",
    "    \n",
    "    words = letters_only.lower().split()\n",
    "    \n",
    "    if remove_stopwords:\n",
    "        stops = set(stopwords.words(\"english\"))\n",
    "        words = [w for w in words if not w in stops]\n",
    "    \n",
    "    lemmaed_words = [wordnet_lemmatizer.lemmatize(w) for w in words]\n",
    "    \n",
    "    return(lemmaed_words)"
   ]
  },
  {
   "cell_type": "code",
   "execution_count": 9,
   "metadata": {
    "collapsed": false
   },
   "outputs": [],
   "source": [
    "import nltk.data\n",
    "\n",
    "tokenizer = nltk.data.load('tokenizers/punkt/english.pickle')"
   ]
  },
  {
   "cell_type": "code",
   "execution_count": 49,
   "metadata": {
    "collapsed": false
   },
   "outputs": [],
   "source": [
    "def review_to_sentences(review, tokenizer, remove_stopwords=False):    \n",
    "    fixed_review = re.sub('´', '\\'', review)\n",
    "    \n",
    "    try:\n",
    "        raw_sentences = tokenizer.tokenize(fixed_review.strip())\n",
    "    except UnicodeDecodeError:\n",
    "        return []\n",
    "    \n",
    "    sentences = []\n",
    "    for raw_sentence in raw_sentences:\n",
    "        if len(raw_sentence) > 0:\n",
    "            sentences.append(review_to_wordlist(raw_sentence, remove_stopwords))\n",
    "    return sentences"
   ]
  },
  {
   "cell_type": "code",
   "execution_count": 64,
   "metadata": {
    "collapsed": false
   },
   "outputs": [
    {
     "name": "stderr",
     "output_type": "stream",
     "text": [
      "\n",
      "Error compiling Cython file:\n",
      "------------------------------------------------------------\n",
      "...\n",
      "\n",
      "sentences = []\n",
      "\n",
      "print \"Parsing sentences from training set\"\n",
      "\n",
      "for i, review in enumerate(train_data[\"review\"]):\n",
      "                                    ^\n",
      "------------------------------------------------------------\n",
      "\n",
      "/Users/pivotal/.ipython/cython/_cython_magic_e355e1da081cd0d296bffdfde07f42f9.pyx:6:37: undeclared name not builtin: train_data\n",
      "\n",
      "Error compiling Cython file:\n",
      "------------------------------------------------------------\n",
      "...\n",
      "print \"Parsing sentences from training set\"\n",
      "\n",
      "for i, review in enumerate(train_data[\"review\"]):\n",
      "    if i % 1000 == 0:\n",
      "        print i\n",
      "    sentences += review_to_sentences(review, tokenizer, True)\n",
      "                                   ^\n",
      "------------------------------------------------------------\n",
      "\n",
      "/Users/pivotal/.ipython/cython/_cython_magic_e355e1da081cd0d296bffdfde07f42f9.pyx:9:36: undeclared name not builtin: review_to_sentences\n",
      "\n",
      "Error compiling Cython file:\n",
      "------------------------------------------------------------\n",
      "...\n",
      "print \"Parsing sentences from training set\"\n",
      "\n",
      "for i, review in enumerate(train_data[\"review\"]):\n",
      "    if i % 1000 == 0:\n",
      "        print i\n",
      "    sentences += review_to_sentences(review, tokenizer, True)\n",
      "                                                     ^\n",
      "------------------------------------------------------------\n",
      "\n",
      "/Users/pivotal/.ipython/cython/_cython_magic_e355e1da081cd0d296bffdfde07f42f9.pyx:9:54: undeclared name not builtin: tokenizer\n",
      "\n",
      "Error compiling Cython file:\n",
      "------------------------------------------------------------\n",
      "...\n",
      "        print i\n",
      "    sentences += review_to_sentences(review, tokenizer, True)\n",
      "    \n",
      "print \"Parsing sentences from test set\"\n",
      "\n",
      "for i, review in enumerate(test_data[\"review\"]):\n",
      "                                   ^\n",
      "------------------------------------------------------------\n",
      "\n",
      "/Users/pivotal/.ipython/cython/_cython_magic_e355e1da081cd0d296bffdfde07f42f9.pyx:13:36: undeclared name not builtin: test_data\n",
      "\n",
      "Error compiling Cython file:\n",
      "------------------------------------------------------------\n",
      "...\n",
      "        print i\n",
      "    sentences += review_to_sentences(review, tokenizer, True)\n",
      "    \n",
      "print \"Parsing sentences from unlabeled set\"\n",
      "\n",
      "for i, review in enumerate(unlabeled_train_data[\"review\"]):\n",
      "                                              ^\n",
      "------------------------------------------------------------\n",
      "\n",
      "/Users/pivotal/.ipython/cython/_cython_magic_e355e1da081cd0d296bffdfde07f42f9.pyx:20:47: undeclared name not builtin: unlabeled_train_data\n"
     ]
    }
   ],
   "source": [
    "sentences = []\n",
    "\n",
    "print \"Parsing sentences from training set\"\n",
    "\n",
    "for i, review in enumerate(train_data[\"review\"]):\n",
    "    if i % 1000 == 0:\n",
    "        print i\n",
    "    sentences += review_to_sentences(review, tokenizer, True)\n",
    "    \n",
    "print \"Parsing sentences from test set\"\n",
    "\n",
    "for i, review in enumerate(test_data[\"review\"]):\n",
    "    if i % 1000 == 0:\n",
    "        print i\n",
    "    sentences += review_to_sentences(review, tokenizer, True)\n",
    "    \n",
    "print \"Parsing sentences from unlabeled set\"\n",
    "\n",
    "for i, review in enumerate(unlabeled_train_data[\"review\"]):\n",
    "    if i % 1000 == 0:\n",
    "        print i\n",
    "    sentences += review_to_sentences(review, tokenizer, True)\n",
    "\n",
    "print \"Done!\""
   ]
  },
  {
   "cell_type": "code",
   "execution_count": 56,
   "metadata": {
    "collapsed": false
   },
   "outputs": [
    {
     "name": "stderr",
     "output_type": "stream",
     "text": [
      "\n",
      "Error compiling Cython file:\n",
      "------------------------------------------------------------\n",
      "...\n",
      "downsampling = 1e-3\n",
      "\n",
      "from gensim.models import word2vec\n",
      "print \"Training model...\"\n",
      "\n",
      "model = word2vec.Word2Vec(sentences, \n",
      "                                  ^\n",
      "------------------------------------------------------------\n",
      "\n",
      "/Users/pivotal/.ipython/cython/_cython_magic_fad8e5374d561bb8b94bdeaafbba4260.pyx:13:35: undeclared name not builtin: sentences\n"
     ]
    }
   ],
   "source": [
    "import logging\n",
    "logging.basicConfig(format='%(asctime)s : %(levelname)s : %(message)s', level=logging.INFO)\n",
    "num_features = 300\n",
    "min_word_count = 40\n",
    "num_workers = 8\n",
    "context = 10\n",
    "downsampling = 1e-3\n",
    "\n",
    "from gensim.models import word2vec\n",
    "print \"Training model...\"\n",
    "\n",
    "model = word2vec.Word2Vec(sentences,\n",
    "                          workers=num_workers, \n",
    "                          size=num_features,\n",
    "                          min_count=min_word_count,\n",
    "                          window=context, \n",
    "                          sample=downsampling)\n",
    "\n",
    "model.init_sims(replace=True)\n",
    "\n",
    "model_name = \"300features_40minwords_10context\"\n",
    "model.save(model_name)"
   ]
  },
  {
   "cell_type": "code",
   "execution_count": null,
   "metadata": {
    "collapsed": true
   },
   "outputs": [],
   "source": []
  }
 ],
 "metadata": {
  "kernelspec": {
   "display_name": "Python 2",
   "language": "python",
   "name": "python2"
  },
  "language_info": {
   "codemirror_mode": {
    "name": "ipython",
    "version": 2
   },
   "file_extension": ".py",
   "mimetype": "text/x-python",
   "name": "python",
   "nbconvert_exporter": "python",
   "pygments_lexer": "ipython2",
   "version": "2.7.10"
  }
 },
 "nbformat": 4,
 "nbformat_minor": 0
}
